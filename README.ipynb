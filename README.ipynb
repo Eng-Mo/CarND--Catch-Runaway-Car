{
 "cells": [
  {
   "cell_type": "code",
   "execution_count": 1,
   "metadata": {},
   "outputs": [
    {
     "name": "stdout",
     "output_type": "stream",
     "text": [
      "Overwriting README.md\n"
     ]
    }
   ],
   "source": [
    "%%writefile README.md\n",
    "\n",
    "# CarND Extended Kalman Filter Project\n",
    "\n",
    "[//]: # (Image References)\n",
    "[image1]: ./Output_images/NIS_L.png\n",
    "[image2]: ./Output_images/NIS_R.png\n",
    "[image3]: ./Output_images/UKF_L_DS1.png\n",
    "[image4]: ./Output_images/UKF_L_DS2.png\n",
    "[image5]: ./Output_images/UKF_R_DS1.png\n",
    "[image6]: ./Output_images/UKF_R_DS2.png\n",
    "[image7]: ./Output_images/UKF_LR_DS1.png\n",
    "[image8]: ./Output_images/UKF_LR_DS2.png\n",
    "[image9]: ./Output_images/EKF_UKF.png\n",
    "\n",
    "---\n",
    "This project is an implementation of a sensor fusion algorithm based on Unscented Kalman filter in order to estimate the position of moving car in constant circular motion and control hunter car to catch it.\n",
    "\n",
    "---\n",
    "### Project Goals\n",
    "This project aims to solve the non-linearity problem in moving object by using the constant turn rate and velocity magnitude motion model(CTRV) in order to predict position of car after time `t`. The strategy is by using the trigonometry and circular motion the center of the runaway car can be calculated by taking 3 points on the circular path. The time between taking each point `dt=.1`. then I controlled the hunter car to the center. the distance from the center to any point on the circle path are equal, hence I calculated the time `t` heading the hunter car after distance radius then predict the position of the runaway car after time `t`.\n",
    "\n",
    "\n",
    "### Dependencies\n",
    "* cmake >= v3.5\n",
    "* make >= v4.1\n",
    "* gcc/g++ >= v5.4\n",
    "\n",
    "### Build instructions\n",
    "1. Clone this repo.\n",
    "2. Make a build directory: mkdir build && cd build\n",
    "3. Compile: cmake .. && make\n",
    "4. Run it: ./catchCar\n",
    "\n",
    "---\n",
    "\n",
    "## Results\n",
    "\n",
    "The UKF can predict the position of object after time `t` accurately and the hunter car can catch the run away car if the motion is known but more examination required if the motion of the object unknown.\n",
    "Link to video: https://www.youtube.com/watch?v=qxgfUPMjzMg\n",
    "## References\n",
    "1. http://rossum.sourceforge.net/papers/CalculationsForRobotics/CirclePath.htm\n",
    "2. http://mathforum.org/library/drmath/view/54323.html\n"
   ]
  }
 ],
 "metadata": {
  "kernelspec": {
   "display_name": "Python 3",
   "language": "python",
   "name": "python3"
  },
  "language_info": {
   "codemirror_mode": {
    "name": "ipython",
    "version": 3
   },
   "file_extension": ".py",
   "mimetype": "text/x-python",
   "name": "python",
   "nbconvert_exporter": "python",
   "pygments_lexer": "ipython3",
   "version": "3.6.2"
  }
 },
 "nbformat": 4,
 "nbformat_minor": 2
}
